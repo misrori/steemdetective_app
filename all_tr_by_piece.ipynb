{
 "cells": [
  {
   "cell_type": "code",
   "execution_count": 10,
   "metadata": {
    "collapsed": true
   },
   "outputs": [],
   "source": [
    "from flask import Flask\n",
    "from flask import request\n",
    "import time\n",
    "import json\n",
    "from steem import Steem\n",
    "s = Steem()"
   ]
  },
  {
   "cell_type": "code",
   "execution_count": 15,
   "metadata": {
    "collapsed": false
   },
   "outputs": [
    {
     "data": {
      "text/plain": [
       "'[[218, {\"trx_id\": \"a26c9f86808067dd645d45d5fc8dda2abf0b11a8\", \"op_in_trx\": 0, \"block\": 3400212, \"op\": [\"vote\", {\"weight\": 10000, \"permlink\": \"firstpost\", \"author\": \"admin\", \"voter\": \"gekko\"}], \"timestamp\": \"2016-07-21T22:39:51\", \"trx_in_block\": 1, \"virtual_op\": 0}], [219, {\"trx_id\": \"6cf2a0f03619e9d07d6bfc8dfe4aec5a2a98b572\", \"op_in_trx\": 0, \"block\": 3425463, \"op\": [\"vote\", {\"weight\": 10000, \"permlink\": \"firstpost\", \"author\": \"admin\", \"voter\": \"patrick-g\"}], \"timestamp\": \"2016-07-22T19:57:15\", \"trx_in_block\": 2, \"virtual_op\": 0}], [220, {\"trx_id\": \"bc1f66e552864b0d0420985616477ed68fa164f3\", \"op_in_trx\": 0, \"block\": 3689986, \"op\": [\"vote\", {\"weight\": 10000, \"permlink\": \"firstpost\", \"author\": \"admin\", \"voter\": \"naturalista\"}], \"timestamp\": \"2016-08-01T02:17:39\", \"trx_in_block\": 1, \"virtual_op\": 0}], [221, {\"trx_id\": \"9ff703f0a95f3017700e7d483337284ad1515a06\", \"op_in_trx\": 0, \"block\": 3985690, \"op\": [\"transfer\", {\"amount\": \"0.001 SBD\", \"memo\": \"I believe in Steemit, I believe in You!  Good afternoon, I want to invite you to support my post dedicated to my dream and development and good advertizing of community of Steemit! I want to make the balloon on which I am going to visit many large cities and to place the logo and the slogan Steemit on it.  Support me and I will support you!  URL : https://steemit.com/steem/@vdoh/rise-steemit\", \"from\": \"vdoh\", \"to\": \"admin\"}], \"timestamp\": \"2016-08-11T09:56:42\", \"trx_in_block\": 2, \"virtual_op\": 0}], [222, {\"trx_id\": \"f1ad5406a9e6c7d95a8304d0f7e7aeea530880fa\", \"op_in_trx\": 0, \"block\": 17018242, \"op\": [\"comment\", {\"body\": \"<p>A cat\\\\u2019s nose pad is ridged with a unique pattern, just like the fingerprint of a human.</p>\\\\n\", \"author\": \"social\", \"json_metadata\": \"{\\\\\"app\\\\\":\\\\\"freakazoid/0.0.3\\\\\"}\", \"title\": \"\", \"parent_author\": \"admin\", \"parent_permlink\": \"firstpost\", \"permlink\": \"re-admin--20171107t163722264z\"}], \"timestamp\": \"2017-11-07T16:37:30\", \"trx_in_block\": 3, \"virtual_op\": 0}], [223, {\"trx_id\": \"2c68aa8bab7f0afd729783d218b9de7da8668f9c\", \"op_in_trx\": 0, \"block\": 17018368, \"op\": [\"comment\", {\"body\": \"<p>Cats can jump up to 7 times their tail length.</p>\\\\n\", \"author\": \"social\", \"json_metadata\": \"{\\\\\"app\\\\\":\\\\\"freakazoid/0.0.3\\\\\"}\", \"title\": \"\", \"parent_author\": \"admin\", \"parent_permlink\": \"firstpost\", \"permlink\": \"re-admin--20171107t164333992z\"}], \"timestamp\": \"2017-11-07T16:43:48\", \"trx_in_block\": 25, \"virtual_op\": 0}], [224, {\"trx_id\": \"423c3c1571356d5fd9967814d4457291dfbe8a0f\", \"op_in_trx\": 0, \"block\": 19590010, \"op\": [\"comment\", {\"body\": \"Cool, I am the first Crypto Dwarf to reply lol (Does that count?)\", \"author\": \"juicyvegandwarf\", \"json_metadata\": \"{\\\\\"tags\\\\\":[\\\\\"meta\\\\\"],\\\\\"app\\\\\":\\\\\"steemit/0.1\\\\\"}\", \"title\": \"\", \"parent_author\": \"admin\", \"parent_permlink\": \"firstpost\", \"permlink\": \"re-admin-firstpost-20180205t011252333z\"}], \"timestamp\": \"2018-02-05T01:12:51\", \"trx_in_block\": 23, \"virtual_op\": 0}], [225, {\"trx_id\": \"9a612f5bf5c9c7b631acb187ef7d0be27c5416f8\", \"op_in_trx\": 0, \"block\": 22967410, \"op\": [\"transfer\", {\"amount\": \"0.001 SBD\", \"memo\": \"\\\\u2606 Hi! We are creating one of the first Multichain tokens ever working on ETH, EOS and NEO: 3 in 1. Please check out our project  \\\\ud83d\\\\udd25Ducatur.net\\\\ud83d\\\\udd25 \\\\u2022MVP is ready  \\\\u20223 Hackathons won  \\\\u2022Softcap Reached \\\\ud83d\\\\udcec Any questions please feel free to contact me  steemit@ducatur.net \\\\u2606\", \"from\": \"id1\", \"to\": \"admin\"}], \"timestamp\": \"2018-06-02T10:38:57\", \"trx_in_block\": 19, \"virtual_op\": 0}]]'"
      ]
     },
     "execution_count": 15,
     "metadata": {},
     "output_type": "execute_result"
    }
   ],
   "source": [
    "''.join([i if ord(i) < 128 else ' ' for i in json.dumps(osszes)])"
   ]
  },
  {
   "cell_type": "code",
   "execution_count": 11,
   "metadata": {
    "collapsed": false,
    "scrolled": true
   },
   "outputs": [
    {
     "data": {
      "text/plain": [
       "'[[218, {\"trx_id\": \"a26c9f86808067dd645d45d5fc8dda2abf0b11a8\", \"op_in_trx\": 0, \"block\": 3400212, \"op\": [\"vote\", {\"weight\": 10000, \"permlink\": \"firstpost\", \"author\": \"admin\", \"voter\": \"gekko\"}], \"timestamp\": \"2016-07-21T22:39:51\", \"trx_in_block\": 1, \"virtual_op\": 0}], [219, {\"trx_id\": \"6cf2a0f03619e9d07d6bfc8dfe4aec5a2a98b572\", \"op_in_trx\": 0, \"block\": 3425463, \"op\": [\"vote\", {\"weight\": 10000, \"permlink\": \"firstpost\", \"author\": \"admin\", \"voter\": \"patrick-g\"}], \"timestamp\": \"2016-07-22T19:57:15\", \"trx_in_block\": 2, \"virtual_op\": 0}], [220, {\"trx_id\": \"bc1f66e552864b0d0420985616477ed68fa164f3\", \"op_in_trx\": 0, \"block\": 3689986, \"op\": [\"vote\", {\"weight\": 10000, \"permlink\": \"firstpost\", \"author\": \"admin\", \"voter\": \"naturalista\"}], \"timestamp\": \"2016-08-01T02:17:39\", \"trx_in_block\": 1, \"virtual_op\": 0}], [221, {\"trx_id\": \"9ff703f0a95f3017700e7d483337284ad1515a06\", \"op_in_trx\": 0, \"block\": 3985690, \"op\": [\"transfer\", {\"amount\": \"0.001 SBD\", \"memo\": \"I believe in Steemit, I believe in You!  Good afternoon, I want to invite you to support my post dedicated to my dream and development and good advertizing of community of Steemit! I want to make the balloon on which I am going to visit many large cities and to place the logo and the slogan Steemit on it.  Support me and I will support you!  URL : https://steemit.com/steem/@vdoh/rise-steemit\", \"from\": \"vdoh\", \"to\": \"admin\"}], \"timestamp\": \"2016-08-11T09:56:42\", \"trx_in_block\": 2, \"virtual_op\": 0}], [222, {\"trx_id\": \"f1ad5406a9e6c7d95a8304d0f7e7aeea530880fa\", \"op_in_trx\": 0, \"block\": 17018242, \"op\": [\"comment\", {\"body\": \"<p>A cat\\\\u2019s nose pad is ridged with a unique pattern, just like the fingerprint of a human.</p>\\\\n\", \"author\": \"social\", \"json_metadata\": \"{\\\\\"app\\\\\":\\\\\"freakazoid/0.0.3\\\\\"}\", \"title\": \"\", \"parent_author\": \"admin\", \"parent_permlink\": \"firstpost\", \"permlink\": \"re-admin--20171107t163722264z\"}], \"timestamp\": \"2017-11-07T16:37:30\", \"trx_in_block\": 3, \"virtual_op\": 0}], [223, {\"trx_id\": \"2c68aa8bab7f0afd729783d218b9de7da8668f9c\", \"op_in_trx\": 0, \"block\": 17018368, \"op\": [\"comment\", {\"body\": \"<p>Cats can jump up to 7 times their tail length.</p>\\\\n\", \"author\": \"social\", \"json_metadata\": \"{\\\\\"app\\\\\":\\\\\"freakazoid/0.0.3\\\\\"}\", \"title\": \"\", \"parent_author\": \"admin\", \"parent_permlink\": \"firstpost\", \"permlink\": \"re-admin--20171107t164333992z\"}], \"timestamp\": \"2017-11-07T16:43:48\", \"trx_in_block\": 25, \"virtual_op\": 0}], [224, {\"trx_id\": \"423c3c1571356d5fd9967814d4457291dfbe8a0f\", \"op_in_trx\": 0, \"block\": 19590010, \"op\": [\"comment\", {\"body\": \"Cool, I am the first Crypto Dwarf to reply lol (Does that count?)\", \"author\": \"juicyvegandwarf\", \"json_metadata\": \"{\\\\\"tags\\\\\":[\\\\\"meta\\\\\"],\\\\\"app\\\\\":\\\\\"steemit/0.1\\\\\"}\", \"title\": \"\", \"parent_author\": \"admin\", \"parent_permlink\": \"firstpost\", \"permlink\": \"re-admin-firstpost-20180205t011252333z\"}], \"timestamp\": \"2018-02-05T01:12:51\", \"trx_in_block\": 23, \"virtual_op\": 0}], [225, {\"trx_id\": \"9a612f5bf5c9c7b631acb187ef7d0be27c5416f8\", \"op_in_trx\": 0, \"block\": 22967410, \"op\": [\"transfer\", {\"amount\": \"0.001 SBD\", \"memo\": \"\\\\u2606 Hi! We are creating one of the first Multichain tokens ever working on ETH, EOS and NEO: 3 in 1. Please check out our project  \\\\ud83d\\\\udd25Ducatur.net\\\\ud83d\\\\udd25 \\\\u2022MVP is ready  \\\\u20223 Hackathons won  \\\\u2022Softcap Reached \\\\ud83d\\\\udcec Any questions please feel free to contact me  steemit@ducatur.net \\\\u2606\", \"from\": \"id1\", \"to\": \"admin\"}], \"timestamp\": \"2018-06-02T10:38:57\", \"trx_in_block\": 19, \"virtual_op\": 0}]]'"
      ]
     },
     "execution_count": 11,
     "metadata": {},
     "output_type": "execute_result"
    }
   ],
   "source": [
    "osszes = s.steemd.get_account_history('admin', index_from=227, limit=7)\n",
    "t = re.sub(r'[^\\x00-\\x7F]+',' ', json.dumps(osszes))\n",
    "t"
   ]
  },
  {
   "cell_type": "code",
   "execution_count": 12,
   "metadata": {
    "collapsed": false
   },
   "outputs": [
    {
     "data": {
      "text/plain": [
       "[[218,\n",
       "  {'block': 3400212,\n",
       "   'op': ['vote',\n",
       "    {'author': 'admin',\n",
       "     'permlink': 'firstpost',\n",
       "     'voter': 'gekko',\n",
       "     'weight': 10000}],\n",
       "   'op_in_trx': 0,\n",
       "   'timestamp': '2016-07-21T22:39:51',\n",
       "   'trx_id': 'a26c9f86808067dd645d45d5fc8dda2abf0b11a8',\n",
       "   'trx_in_block': 1,\n",
       "   'virtual_op': 0}],\n",
       " [219,\n",
       "  {'block': 3425463,\n",
       "   'op': ['vote',\n",
       "    {'author': 'admin',\n",
       "     'permlink': 'firstpost',\n",
       "     'voter': 'patrick-g',\n",
       "     'weight': 10000}],\n",
       "   'op_in_trx': 0,\n",
       "   'timestamp': '2016-07-22T19:57:15',\n",
       "   'trx_id': '6cf2a0f03619e9d07d6bfc8dfe4aec5a2a98b572',\n",
       "   'trx_in_block': 2,\n",
       "   'virtual_op': 0}],\n",
       " [220,\n",
       "  {'block': 3689986,\n",
       "   'op': ['vote',\n",
       "    {'author': 'admin',\n",
       "     'permlink': 'firstpost',\n",
       "     'voter': 'naturalista',\n",
       "     'weight': 10000}],\n",
       "   'op_in_trx': 0,\n",
       "   'timestamp': '2016-08-01T02:17:39',\n",
       "   'trx_id': 'bc1f66e552864b0d0420985616477ed68fa164f3',\n",
       "   'trx_in_block': 1,\n",
       "   'virtual_op': 0}],\n",
       " [221,\n",
       "  {'block': 3985690,\n",
       "   'op': ['transfer',\n",
       "    {'amount': '0.001 SBD',\n",
       "     'from': 'vdoh',\n",
       "     'memo': 'I believe in Steemit, I believe in You!  Good afternoon, I want to invite you to support my post dedicated to my dream and development and good advertizing of community of Steemit! I want to make the balloon on which I am going to visit many large cities and to place the logo and the slogan Steemit on it.  Support me and I will support you!  URL : https://steemit.com/steem/@vdoh/rise-steemit',\n",
       "     'to': 'admin'}],\n",
       "   'op_in_trx': 0,\n",
       "   'timestamp': '2016-08-11T09:56:42',\n",
       "   'trx_id': '9ff703f0a95f3017700e7d483337284ad1515a06',\n",
       "   'trx_in_block': 2,\n",
       "   'virtual_op': 0}],\n",
       " [222,\n",
       "  {'block': 17018242,\n",
       "   'op': ['comment',\n",
       "    {'author': 'social',\n",
       "     'body': '<p>A cat’s nose pad is ridged with a unique pattern, just like the fingerprint of a human.</p>\\n',\n",
       "     'json_metadata': '{\"app\":\"freakazoid/0.0.3\"}',\n",
       "     'parent_author': 'admin',\n",
       "     'parent_permlink': 'firstpost',\n",
       "     'permlink': 're-admin--20171107t163722264z',\n",
       "     'title': ''}],\n",
       "   'op_in_trx': 0,\n",
       "   'timestamp': '2017-11-07T16:37:30',\n",
       "   'trx_id': 'f1ad5406a9e6c7d95a8304d0f7e7aeea530880fa',\n",
       "   'trx_in_block': 3,\n",
       "   'virtual_op': 0}],\n",
       " [223,\n",
       "  {'block': 17018368,\n",
       "   'op': ['comment',\n",
       "    {'author': 'social',\n",
       "     'body': '<p>Cats can jump up to 7 times their tail length.</p>\\n',\n",
       "     'json_metadata': '{\"app\":\"freakazoid/0.0.3\"}',\n",
       "     'parent_author': 'admin',\n",
       "     'parent_permlink': 'firstpost',\n",
       "     'permlink': 're-admin--20171107t164333992z',\n",
       "     'title': ''}],\n",
       "   'op_in_trx': 0,\n",
       "   'timestamp': '2017-11-07T16:43:48',\n",
       "   'trx_id': '2c68aa8bab7f0afd729783d218b9de7da8668f9c',\n",
       "   'trx_in_block': 25,\n",
       "   'virtual_op': 0}],\n",
       " [224,\n",
       "  {'block': 19590010,\n",
       "   'op': ['comment',\n",
       "    {'author': 'juicyvegandwarf',\n",
       "     'body': 'Cool, I am the first Crypto Dwarf to reply lol (Does that count?)',\n",
       "     'json_metadata': '{\"tags\":[\"meta\"],\"app\":\"steemit/0.1\"}',\n",
       "     'parent_author': 'admin',\n",
       "     'parent_permlink': 'firstpost',\n",
       "     'permlink': 're-admin-firstpost-20180205t011252333z',\n",
       "     'title': ''}],\n",
       "   'op_in_trx': 0,\n",
       "   'timestamp': '2018-02-05T01:12:51',\n",
       "   'trx_id': '423c3c1571356d5fd9967814d4457291dfbe8a0f',\n",
       "   'trx_in_block': 23,\n",
       "   'virtual_op': 0}],\n",
       " [225,\n",
       "  {'block': 22967410,\n",
       "   'op': ['transfer',\n",
       "    {'amount': '0.001 SBD',\n",
       "     'from': 'id1',\n",
       "     'memo': '☆ Hi! We are creating one of the first Multichain tokens ever working on ETH, EOS and NEO: 3 in 1. Please check out our project  🔥Ducatur.net🔥 •MVP is ready  •3 Hackathons won  •Softcap Reached 📬 Any questions please feel free to contact me  steemit@ducatur.net ☆',\n",
       "     'to': 'admin'}],\n",
       "   'op_in_trx': 0,\n",
       "   'timestamp': '2018-06-02T10:38:57',\n",
       "   'trx_id': '9a612f5bf5c9c7b631acb187ef7d0be27c5416f8',\n",
       "   'trx_in_block': 19,\n",
       "   'virtual_op': 0}]]"
      ]
     },
     "execution_count": 12,
     "metadata": {},
     "output_type": "execute_result"
    }
   ],
   "source": [
    "osszes"
   ]
  },
  {
   "cell_type": "code",
   "execution_count": null,
   "metadata": {
    "collapsed": false
   },
   "outputs": [],
   "source": [
    "s.steemd.get_account_history('misrori',index_from=-1, limit=1 )"
   ]
  },
  {
   "cell_type": "code",
   "execution_count": null,
   "metadata": {
    "collapsed": true
   },
   "outputs": [],
   "source": [
    "100"
   ]
  },
  {
   "cell_type": "code",
   "execution_count": 2,
   "metadata": {
    "collapsed": false,
    "scrolled": true
   },
   "outputs": [],
   "source": [
    "t = s.steemd.get_account_history('admin', index_from=10000, limit=10000)"
   ]
  },
  {
   "cell_type": "code",
   "execution_count": 3,
   "metadata": {
    "collapsed": false
   },
   "outputs": [
    {
     "data": {
      "text/plain": [
       "[225,\n",
       " {'block': 22967410,\n",
       "  'op': ['transfer',\n",
       "   {'amount': '0.001 SBD',\n",
       "    'from': 'id1',\n",
       "    'memo': '☆ Hi! We are creating one of the first Multichain tokens ever working on ETH, EOS and NEO: 3 in 1. Please check out our project  🔥Ducatur.net🔥 •MVP is ready  •3 Hackathons won  •Softcap Reached 📬 Any questions please feel free to contact me  steemit@ducatur.net ☆',\n",
       "    'to': 'admin'}],\n",
       "  'op_in_trx': 0,\n",
       "  'timestamp': '2018-06-02T10:38:57',\n",
       "  'trx_id': '9a612f5bf5c9c7b631acb187ef7d0be27c5416f8',\n",
       "  'trx_in_block': 19,\n",
       "  'virtual_op': 0}]"
      ]
     },
     "execution_count": 3,
     "metadata": {},
     "output_type": "execute_result"
    }
   ],
   "source": [
    "t[-1]"
   ]
  },
  {
   "cell_type": "code",
   "execution_count": null,
   "metadata": {
    "collapsed": true
   },
   "outputs": [],
   "source": []
  },
  {
   "cell_type": "code",
   "execution_count": null,
   "metadata": {
    "collapsed": false
   },
   "outputs": [
    {
     "name": "stdout",
     "output_type": "stream",
     "text": [
      "{'name': 'admin'}\n",
      "{'name': 'admin', 'limit': 10, 'to': 10}\n",
      "{'name': 'admin', 'limit': 10, 'to': 20}\n",
      "{'name': 'admin', 'limit': 10, 'to': 30}\n",
      "{'name': 'admin', 'limit': 10, 'to': 40}\n",
      "{'name': 'admin', 'limit': 10, 'to': 50}\n",
      "{'name': 'admin', 'limit': 10, 'to': 60}\n",
      "{'name': 'admin', 'limit': 10, 'to': 70}\n",
      "{'name': 'admin', 'limit': 10, 'to': 80}\n",
      "{'name': 'admin', 'limit': 10, 'to': 90}\n",
      "{'name': 'admin', 'limit': 10, 'to': 100}\n",
      "{'name': 'admin', 'limit': 10, 'to': 110}\n",
      "{'name': 'admin', 'limit': 10, 'to': 120}\n",
      "{'name': 'admin', 'limit': 10, 'to': 130}\n",
      "{'name': 'admin', 'limit': 10, 'to': 140}\n",
      "{'name': 'admin', 'limit': 10, 'to': 150}\n",
      "{'name': 'admin', 'limit': 10, 'to': 160}\n",
      "{'name': 'admin', 'limit': 10, 'to': 170}\n",
      "{'name': 'admin', 'limit': 10, 'to': 180}\n",
      "{'name': 'admin', 'limit': 10, 'to': 190}\n",
      "{'name': 'admin', 'limit': 10, 'to': 200}\n",
      "{'name': 'admin', 'limit': 10, 'to': 210}\n",
      "{'name': 'admin', 'limit': 10, 'to': 220}\n"
     ]
    }
   ],
   "source": [
    "from flask import Flask\n",
    "from flask import request\n",
    "import time\n",
    "import json\n",
    "from steem import Steem\n",
    "import re\n",
    "# steem install https://steemit.com/computer/@fr3eze/steem-pythoninstallationonlinux-1ryocg7ebu?sort=author_reputation\n",
    "\n",
    "app = Flask(__name__)\n",
    " \n",
    "@app.route(\"/get_all_tr\", methods=['POST'])\n",
    "def get_all_tr():\n",
    "    global s\n",
    "    data = request.get_json()\n",
    "    print(data)\n",
    "    name = data['name']\n",
    "    my_to=data['to']\n",
    "    my_limit=data['limit']\n",
    "    \n",
    "    osszes = s.steemd.get_account_history(name, index_from=my_to, limit=my_limit)\n",
    "    \n",
    "\n",
    "    return app.response_class(\n",
    "        response=json.dumps(osszes),\n",
    "        status=200,\n",
    "        mimetype='application/json' )\n",
    "\n",
    "@app.route(\"/get_all_tr_number\", methods=['POST'])\n",
    "def get_all_tr_number():\n",
    "    data = request.get_json()\n",
    "    print(data)\n",
    "    name = data['name']\n",
    "\n",
    "    t = s.steemd.get_account_history(name,index_from=-1, limit=1 )\n",
    "\n",
    "    szam = {'all_tr_number':t[-1][0]+1 }\n",
    "    return app.response_class(\n",
    "        response=json.dumps(szam),\n",
    "        status=200,\n",
    "        mimetype='application/json' )\n",
    "\n",
    " \n",
    "if __name__ == \"__main__\":\n",
    "    s = Steem()\n",
    "    app.run(port= 54321, threaded=True)\n",
    "\n",
    "\n"
   ]
  },
  {
   "cell_type": "code",
   "execution_count": 7,
   "metadata": {
    "collapsed": false
   },
   "outputs": [
    {
     "ename": "ImportError",
     "evalue": "No module named 'unidecode'",
     "output_type": "error",
     "traceback": [
      "\u001b[1;31m---------------------------------------------------------------------------\u001b[0m",
      "\u001b[1;31mImportError\u001b[0m                               Traceback (most recent call last)",
      "\u001b[1;32m<ipython-input-7-5666b6ce91e6>\u001b[0m in \u001b[0;36m<module>\u001b[1;34m()\u001b[0m\n\u001b[1;32m----> 1\u001b[1;33m \u001b[1;32mimport\u001b[0m \u001b[0munidecode\u001b[0m\u001b[1;33m\u001b[0m\u001b[0m\n\u001b[0m\u001b[0;32m      2\u001b[0m \u001b[1;32mdef\u001b[0m \u001b[0mremove_non_ascii\u001b[0m\u001b[1;33m(\u001b[0m\u001b[0mtext\u001b[0m\u001b[1;33m)\u001b[0m\u001b[1;33m:\u001b[0m\u001b[1;33m\u001b[0m\u001b[0m\n\u001b[0;32m      3\u001b[0m     \u001b[1;32mreturn\u001b[0m \u001b[0munidecode\u001b[0m\u001b[1;33m(\u001b[0m\u001b[0municode\u001b[0m\u001b[1;33m(\u001b[0m\u001b[0mtext\u001b[0m\u001b[1;33m,\u001b[0m \u001b[0mencoding\u001b[0m \u001b[1;33m=\u001b[0m \u001b[1;34m\"utf-8\"\u001b[0m\u001b[1;33m)\u001b[0m\u001b[1;33m)\u001b[0m\u001b[1;33m\u001b[0m\u001b[0m\n",
      "\u001b[1;31mImportError\u001b[0m: No module named 'unidecode'"
     ]
    }
   ],
   "source": []
  },
  {
   "cell_type": "code",
   "execution_count": null,
   "metadata": {
    "collapsed": true
   },
   "outputs": [],
   "source": []
  }
 ],
 "metadata": {
  "kernelspec": {
   "display_name": "Python [Root]",
   "language": "python",
   "name": "Python [Root]"
  },
  "language_info": {
   "codemirror_mode": {
    "name": "ipython",
    "version": 3
   },
   "file_extension": ".py",
   "mimetype": "text/x-python",
   "name": "python",
   "nbconvert_exporter": "python",
   "pygments_lexer": "ipython3",
   "version": "3.5.1"
  }
 },
 "nbformat": 4,
 "nbformat_minor": 0
}
